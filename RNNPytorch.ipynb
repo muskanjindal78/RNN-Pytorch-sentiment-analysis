{
  "nbformat": 4,
  "nbformat_minor": 0,
  "metadata": {
    "colab": {
      "provenance": []
    },
    "kernelspec": {
      "name": "python3",
      "display_name": "Python 3"
    },
    "language_info": {
      "name": "python"
    }
  },
  "cells": [
    {
      "cell_type": "code",
      "execution_count": null,
      "metadata": {
        "colab": {
          "base_uri": "https://localhost:8080/"
        },
        "id": "xM5bDi5NX5Wo",
        "outputId": "f8c8ba2b-7a1b-40ca-a061-391222cb74dc"
      },
      "outputs": [
        {
          "output_type": "execute_result",
          "data": {
            "text/plain": [
              "<torch._C.Generator at 0x794a34048470>"
            ]
          },
          "metadata": {},
          "execution_count": 16
        }
      ],
      "source": [
        "import torch\n",
        "import torch.nn as nn\n",
        "import torch.optim as optim\n",
        "import pandas as pd\n",
        "import numpy as np\n",
        "from sklearn.model_selection import train_test_split\n",
        "from torch.utils.data import Dataset, DataLoader\n",
        "import ast\n",
        "\n",
        "torch.manual_seed(42)"
      ]
    },
    {
      "cell_type": "code",
      "source": [
        "url = 'https://drive.google.com/uc?id=1VsikqoGtx6Ei12NIcmaIS4AYTwiksPJI'\n",
        "df = pd.read_csv(url)\n",
        "\n",
        "train_df, test_df = train_test_split(df, test_size=0.2, random_state=42)\n",
        "\n",
        "train_size = len(train_df)\n",
        "test_size = len(test_df)\n"
      ],
      "metadata": {
        "id": "1nfdiUlSX9bA"
      },
      "execution_count": null,
      "outputs": []
    },
    {
      "cell_type": "code",
      "source": [
        "def build_vocab(texts, max_size, min_freq):\n",
        "    vocab = {'<UNK>': 0, '<PAD>': 1}\n",
        "    word_freq = {}\n",
        "\n",
        "    for text in texts:\n",
        "        for word in text:\n",
        "            if word in word_freq:\n",
        "                word_freq[word] += 1\n",
        "            else:\n",
        "                word_freq[word] = 1\n",
        "\n",
        "    for word, freq in word_freq.items():\n",
        "        if freq >= min_freq and len(vocab) < max_size:\n",
        "            vocab[word] = len(vocab)\n",
        "\n",
        "    return vocab\n",
        "\n",
        "train_texts = train_df['text'].tolist()\n",
        "train_texts = [ast.literal_eval(text) for text in train_texts]\n",
        "\n",
        "vocab = build_vocab(train_texts, max_size=10000, min_freq=2)\n",
        "\n",
        "vocab_size = len(vocab)\n",
        "print(\"Vocabulary Size:\", vocab_size)"
      ],
      "metadata": {
        "colab": {
          "base_uri": "https://localhost:8080/"
        },
        "id": "nH9OhPr9YDZQ",
        "outputId": "dde00f36-cbd0-494e-bf49-065a7f301679"
      },
      "execution_count": null,
      "outputs": [
        {
          "output_type": "stream",
          "name": "stdout",
          "text": [
            "Vocabulary Size: 762\n"
          ]
        }
      ]
    },
    {
      "cell_type": "code",
      "source": [
        "def numericalize(text, vocab):\n",
        "    return [vocab.get(word, vocab['<UNK>']) for word in text]\n",
        "\n",
        "train_df['text'] = train_df['text'].apply(lambda x: numericalize(ast.literal_eval(x), vocab))\n",
        "test_df['text'] = test_df['text'].apply(lambda x: numericalize(ast.literal_eval(x), vocab))\n",
        "\n",
        "first_element = train_df['text'].iloc[0]\n",
        "print(\"First element\\n\", first_element)"
      ],
      "metadata": {
        "colab": {
          "base_uri": "https://localhost:8080/"
        },
        "id": "v4JMp9gGYDfP",
        "outputId": "33166d59-dcee-4d5e-c30a-ef77e3281e9d"
      },
      "execution_count": null,
      "outputs": [
        {
          "output_type": "stream",
          "name": "stdout",
          "text": [
            "First element\n",
            " [2, 3, 4, 2, 5, 6]\n"
          ]
        }
      ]
    },
    {
      "cell_type": "code",
      "source": [
        "class YelpDataset(Dataset):\n",
        "    def __init__(self, dataframe, max_seq_length):\n",
        "        self.dataframe = dataframe\n",
        "        self.max_seq_length = max_seq_length\n",
        "\n",
        "    def __len__(self):\n",
        "        return len(self.dataframe)\n",
        "\n",
        "    def __getitem__(self, idx):\n",
        "        text = self.dataframe.iloc[idx]['text']\n",
        "        label = self.dataframe.iloc[idx]['label']\n",
        "\n",
        "        if len(text) < self.max_seq_length:\n",
        "            text = text + [1] * (self.max_seq_length - len(text))\n",
        "        else:\n",
        "            text = text[:self.max_seq_length]\n",
        "\n",
        "        return {'text': torch.tensor(text, dtype=torch.long), 'label': torch.tensor(label, dtype=torch.long)}\n",
        "\n",
        "max_seq_length = 100\n",
        "train_dataset = YelpDataset(train_df, max_seq_length)\n",
        "test_dataset = YelpDataset(test_df, max_seq_length)\n",
        "\n",
        "first_tensor_element = train_dataset[0]\n",
        "print(\"First tensor element\\n\", first_tensor_element)"
      ],
      "metadata": {
        "colab": {
          "base_uri": "https://localhost:8080/"
        },
        "id": "CtIRyr5eYDio",
        "outputId": "425ad369-8315-423b-f550-ed049a739900"
      },
      "execution_count": null,
      "outputs": [
        {
          "output_type": "stream",
          "name": "stdout",
          "text": [
            "First tensor element\n",
            " {'text': tensor([2, 3, 4, 2, 5, 6, 1, 1, 1, 1, 1, 1, 1, 1, 1, 1, 1, 1, 1, 1, 1, 1, 1, 1,\n",
            "        1, 1, 1, 1, 1, 1, 1, 1, 1, 1, 1, 1, 1, 1, 1, 1, 1, 1, 1, 1, 1, 1, 1, 1,\n",
            "        1, 1, 1, 1, 1, 1, 1, 1, 1, 1, 1, 1, 1, 1, 1, 1, 1, 1, 1, 1, 1, 1, 1, 1,\n",
            "        1, 1, 1, 1, 1, 1, 1, 1, 1, 1, 1, 1, 1, 1, 1, 1, 1, 1, 1, 1, 1, 1, 1, 1,\n",
            "        1, 1, 1, 1]), 'label': tensor(0)}\n"
          ]
        }
      ]
    },
    {
      "cell_type": "code",
      "source": [
        "train_loader = DataLoader(train_dataset, batch_size=32, shuffle=True)\n",
        "test_loader = DataLoader(test_dataset, batch_size=32, shuffle=False)"
      ],
      "metadata": {
        "id": "ieusE-xRYqVh"
      },
      "execution_count": null,
      "outputs": []
    },
    {
      "cell_type": "code",
      "source": [
        "class RNNModel(nn.Module):\n",
        "    def __init__(self, input_size, embedding_dim, hidden_size, num_layers, output_size):\n",
        "        super(RNNModel, self).__init__()\n",
        "        self.embedding = nn.Embedding(input_size, embedding_dim)\n",
        "        self.rnn = nn.RNN(embedding_dim, hidden_size, num_layers, batch_first=True)\n",
        "        self.fc = nn.Linear(hidden_size, output_size)\n",
        "\n",
        "    def forward(self, x):\n",
        "        x = self.embedding(x)\n",
        "        out, hidden = self.rnn(x)\n",
        "        out = self.fc(hidden[-1])\n",
        "        return out\n",
        "\n",
        "input_size = vocab_size\n",
        "embedding_dim = 100\n",
        "hidden_size = 256\n",
        "num_layers = 2\n",
        "output_size = 1\n",
        "\n",
        "model = RNNModel(input_size, embedding_dim, hidden_size, num_layers, output_size)\n",
        "\n",
        "total_params = sum(p.numel() for p in model.parameters())\n",
        "print(\"Total params: \", total_params)"
      ],
      "metadata": {
        "colab": {
          "base_uri": "https://localhost:8080/"
        },
        "id": "7gU9qzcMYqcb",
        "outputId": "fce84499-66a6-464f-fa3b-a8ca58272304"
      },
      "execution_count": null,
      "outputs": [
        {
          "output_type": "stream",
          "name": "stdout",
          "text": [
            "Total params:  299689\n"
          ]
        }
      ]
    },
    {
      "cell_type": "code",
      "source": [
        "criterion = nn.BCEWithLogitsLoss()\n",
        "optimizer = optim.Adam(model.parameters(), lr=0.001)"
      ],
      "metadata": {
        "id": "0juFiJKCZGlv"
      },
      "execution_count": null,
      "outputs": []
    },
    {
      "cell_type": "code",
      "source": [
        "def train_model(model, train_loader, criterion, optimizer, num_epochs):\n",
        "    model.train()\n",
        "    for epoch in range(num_epochs):\n",
        "        total_loss = 0\n",
        "        for batch in train_loader:\n",
        "            texts = batch['text']\n",
        "            labels = batch['label'].float().unsqueeze(1)\n",
        "\n",
        "            outputs = model(texts)\n",
        "            loss = criterion(outputs, labels)\n",
        "\n",
        "            optimizer.zero_grad()\n",
        "            loss.backward()\n",
        "            optimizer.step()\n",
        "\n",
        "            total_loss += loss.item()\n",
        "        print(f'Epoch [{epoch+1}/{num_epochs}], Loss: {total_loss/len(train_loader):.4f}')\n",
        "\n",
        "def evaluate_model(model, test_loader, criterion):\n",
        "    model.eval()\n",
        "    correct = 0\n",
        "    total = 0\n",
        "    with torch.no_grad():\n",
        "        for batch in test_loader:\n",
        "            texts = batch['text']\n",
        "            labels = batch['label'].float().unsqueeze(1)\n",
        "            outputs = model(texts)\n",
        "            predictions = torch.round(torch.sigmoid(outputs))\n",
        "            correct += (predictions == labels).sum().item()\n",
        "            total += labels.size(0)\n",
        "    accuracy = correct / total * 100\n",
        "    return accuracy\n",
        "\n",
        "train_model(model, train_loader, criterion, optimizer, num_epochs=2)\n",
        "\n",
        "accuracy = evaluate_model(model, test_loader, criterion)\n",
        "print(\"Accuracy:\", accuracy)"
      ],
      "metadata": {
        "colab": {
          "base_uri": "https://localhost:8080/"
        },
        "id": "8Fo831boZTnG",
        "outputId": "caa8ce4d-13e6-4919-d1f4-1bd57d0350f2"
      },
      "execution_count": null,
      "outputs": [
        {
          "output_type": "stream",
          "name": "stdout",
          "text": [
            "Epoch [1/2], Loss: 0.7107\n",
            "Epoch [2/2], Loss: 0.6960\n",
            "Accuracy: 52.0\n"
          ]
        }
      ]
    },
    {
      "cell_type": "code",
      "source": [
        "# Print sizes of datasets\n",
        "print(f\"Training Dataset Size: {train_size}\")\n",
        "print(f\"Test Dataset Size: {test_size}\")\n",
        "\n",
        "# Print vocabulary size\n",
        "print(f\"Vocabulary Size: {vocab_size}\")\n",
        "\n",
        "# Print example numericalized first element\n",
        "print(f\"Example Numericalized First Element: {first_element}\")\n",
        "\n",
        "# Print first element after converting to tensor\n",
        "print(f\"First Element After Converting to Tensor: {first_tensor_element}\")\n",
        "\n",
        "# Print total number of parameters in the model\n",
        "print(f\"Total Number of Parameters in the Model: {total_params}\")\n",
        "\n",
        "# Evaluate the model and print the test accuracy\n",
        "print(f\"Test Accuracy after 2 epochs: {accuracy:.2f}%\")"
      ],
      "metadata": {
        "colab": {
          "base_uri": "https://localhost:8080/"
        },
        "id": "3Hrj4c6rZmRo",
        "outputId": "ecc61c17-37b9-45cf-dab7-e20d181e51c6"
      },
      "execution_count": null,
      "outputs": [
        {
          "output_type": "stream",
          "name": "stdout",
          "text": [
            "Training Dataset Size: 800\n",
            "Test Dataset Size: 200\n",
            "Vocabulary Size: 762\n",
            "Example Numericalized First Element: [2, 3, 4, 2, 5, 6]\n",
            "First Element After Converting to Tensor: {'text': tensor([2, 3, 4, 2, 5, 6, 1, 1, 1, 1, 1, 1, 1, 1, 1, 1, 1, 1, 1, 1, 1, 1, 1, 1,\n",
            "        1, 1, 1, 1, 1, 1, 1, 1, 1, 1, 1, 1, 1, 1, 1, 1, 1, 1, 1, 1, 1, 1, 1, 1,\n",
            "        1, 1, 1, 1, 1, 1, 1, 1, 1, 1, 1, 1, 1, 1, 1, 1, 1, 1, 1, 1, 1, 1, 1, 1,\n",
            "        1, 1, 1, 1, 1, 1, 1, 1, 1, 1, 1, 1, 1, 1, 1, 1, 1, 1, 1, 1, 1, 1, 1, 1,\n",
            "        1, 1, 1, 1]), 'label': tensor(0)}\n",
            "Total Number of Parameters in the Model: 299689\n",
            "Test Accuracy after 2 epochs: 52.00%\n"
          ]
        }
      ]
    }
  ]
}